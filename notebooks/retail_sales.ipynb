{
 "cells": [
  {
   "cell_type": "code",
   "execution_count": null,
   "id": "698c4a65",
   "metadata": {},
   "outputs": [
    {
     "ename": "",
     "evalue": "",
     "output_type": "error",
     "traceback": [
      "\u001b[1;31mThe kernel failed to start as the Python Environment 'Python' is no longer available. Consider selecting another kernel or refreshing the list of Python Environments."
     ]
    }
   ],
   "source": [
    "import numpy as np\n",
    "import pandas as pd\n",
    "\n",
    "def cargar_datos(ruta_archivo):\n",
    "    # Carga los datos del archivo CSV utilizando NumPy\n",
    "    datos = np.genfromtxt(ruta_archivo, delimiter=',', skip_header=1)\n",
    "    return datos\n",
    "\n",
    "if __name__ == \"__main__\":\n",
    "    ruta_archivo = '../data/retail_sales_dataset.csv'\n",
    "    datos = cargar_datos(ruta_archivo)\n",
    "    print(datos)"
   ]
  },
  {
   "cell_type": "code",
   "execution_count": null,
   "id": "13c6d394",
   "metadata": {},
   "outputs": [],
   "source": [
    "df_csv_np = np.genfromtxt('../data/retail_sales_dataset.csv', delimiter=',', dtype=None, encoding='utf-8', names=True)\n",
    "df_csv_np\n",
    "\n"
   ]
  },
  {
   "cell_type": "code",
   "execution_count": null,
   "id": "6a587cbb",
   "metadata": {},
   "outputs": [],
   "source": [
    "categorias = np.unique(df_csv_np[\"Product_Category\"])\n",
    "total_monto_categoria = {}\n",
    "for categoria in categorias:\n",
    "    Monto_total_venta_categoria = np.sum(df_csv_np['Total_Amount'][df_csv_np['Product_Category'] == categoria])\n",
    "    total_monto_categoria[categoria] = Monto_total_venta_categoria\n",
    "    print(f\"Ventas de la categoría {categoria}: {Monto_total_venta_categoria:,}\")\n"
   ]
  },
  {
   "cell_type": "code",
   "execution_count": null,
   "id": "490a4fa2",
   "metadata": {},
   "outputs": [],
   "source": [
    "for categoria in categorias:\n",
    "    ventas_promedio_dia = np.mean(df_csv_np['Quantity'][df_csv_np['Product_Category'] == categoria])\n",
    "    print(f\"Ventas promedio por día de la categoría {categoria}: {ventas_promedio_dia:.2f}\")"
   ]
  },
  {
   "cell_type": "code",
   "execution_count": null,
   "id": "cd3ca263",
   "metadata": {},
   "outputs": [],
   "source": [
    "total_monto_categoria_np = np.array(list(total_monto_categoria.items()))\n",
    "total_monto_categoria_np_ajustado = total_monto_categoria_np[:, 1].astype(int)\n",
    "\n",
    "max_indice_categoria = np.argmax(total_monto_categoria_np_ajustado)\n",
    "min_indice_categoria = np.argmin(total_monto_categoria_np_ajustado)\n",
    "\n",
    "max_categoria = total_monto_categoria_np[max_indice_categoria][0]\n",
    "min_categoria = total_monto_categoria_np[min_indice_categoria][0]\n",
    "\n",
    "print(f\"La categoría con más ventas es {max_categoria} con un total de {total_monto_categoria_np_ajustado[max_indice_categoria]:,}\")\n",
    "print(f\"La categoría con menos ventas es {min_categoria} con un total de {total_monto_categoria_np_ajustado[min_indice_categoria]:,}\")"
   ]
  },
  {
   "cell_type": "code",
   "execution_count": null,
   "id": "c537f8ce",
   "metadata": {},
   "outputs": [],
   "source": [
    "a = np.array([1, 2, 3])\n",
    "lista = [1, 2, 3]\n",
    "print([x + 1 for x in lista])\n",
    "print(a + 1)"
   ]
  }
 ],
 "metadata": {
  "kernelspec": {
   "display_name": "venv",
   "language": "python",
   "name": "python3"
  },
  "language_info": {
   "codemirror_mode": {
    "name": "ipython",
    "version": 3
   },
   "file_extension": ".py",
   "mimetype": "text/x-python",
   "name": "python",
   "nbconvert_exporter": "python",
   "pygments_lexer": "ipython3",
   "version": "3.9.6"
  }
 },
 "nbformat": 4,
 "nbformat_minor": 5
}
